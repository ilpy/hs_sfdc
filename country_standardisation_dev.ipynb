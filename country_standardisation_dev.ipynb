{
 "metadata": {
  "language_info": {
   "codemirror_mode": {
    "name": "ipython",
    "version": 3
   },
   "file_extension": ".py",
   "mimetype": "text/x-python",
   "name": "python",
   "nbconvert_exporter": "python",
   "pygments_lexer": "ipython3",
   "version": "3.7.4-final"
  },
  "orig_nbformat": 2,
  "kernelspec": {
   "name": "python3",
   "display_name": "Python 3",
   "language": "python"
  }
 },
 "nbformat": 4,
 "nbformat_minor": 2,
 "cells": [
  {
   "cell_type": "code",
   "execution_count": 1125,
   "metadata": {},
   "outputs": [],
   "source": [
    "#aim of this script is to transform vague country names to names found in the iso3166 standard country list\n",
    "###iterate through all the country/region values\n",
    "###check if the value can be matched with a value in the iso3166 options\n",
    "###if the there's a match, add the value from the iso3166 class onto a new column called 'std_country/region', create another column which indicates if a match was found 1, 0\n",
    "###if there's no match update the row with 0 on the new column\n",
    "import pandas as pd\n",
    "from iso3166 import countries\n",
    "#from difflib import SequenceMatcher\n",
    "from datetime import datetime"
   ]
  },
  {
   "cell_type": "code",
   "execution_count": 1126,
   "metadata": {},
   "outputs": [],
   "source": [
    "start_time = datetime.now()\n",
    "batch_size = 10\n",
    "match_count = 0\n",
    "iso_countries_df = pd.DataFrame() \n",
    "hs_countries_df = pd.DataFrame()\n",
    "countries_wo_match = pd.DataFrame()\n",
    "audit_frame = pd.DataFrame()\n",
    "with open('contact-country-region-values.csv') as f:\n",
    "    file = f.readlines()\n",
    "    row_count = len(file)"
   ]
  },
  {
   "cell_type": "code",
   "execution_count": 1127,
   "metadata": {},
   "outputs": [],
   "source": [
    "def match_counter():\n",
    "    global match_count\n",
    "    match_count = match_count + 1\n",
    "    return match_count"
   ]
  },
  {
   "cell_type": "code",
   "execution_count": 1128,
   "metadata": {},
   "outputs": [],
   "source": [
    "def match_maker(csv_chunk):\n",
    "    global csv_data\n",
    "    global hs_countries_df\n",
    "    csv_data = csv_chunk.dropna(subset=['Country/Region'])\n",
    "    hs_countries_df = hs_countries_df.append(csv_data)\n",
    "    for idx, country_name in csv_data['Country/Region'].iteritems():\n",
    "        print('Converting contact {} out of {}.'.format(match_counter(), row_count), 'Runtime duration {}'.format(datetime.now() - start_time))\n",
    "        try:\n",
    "            new_country_name = countries.get(country_name)\n",
    "            hs_countries_df.loc[idx, 'new_country_name'] = new_country_name[0]\n",
    "            hs_countries_df.loc[idx, 'Matched'] = True\n",
    "        except:\n",
    "            #for std_cname in iso_countries_df['name'].iteritems():\n",
    "                #new_old_simil = similar(country_name.lower(), std_cname[1].lower())\n",
    "                #if new_old_simil > 0.5:\n",
    "                #    hs_countries_df.loc[idx, 'new_country_name'] = std_cname[1]\n",
    "                #    hs_countries_df.loc[idx, 'similarity_score'] = new_old_simil\n",
    "                #else:\n",
    "            hs_countries_df.loc[idx, 'Matched'] = False"
   ]
  },
  {
   "cell_type": "code",
   "execution_count": 1129,
   "metadata": {},
   "outputs": [],
   "source": [
    "#check for the similarity of the strings based on the levenshtein distance\n",
    "#def similar(a, b):\n",
    "#    return SequenceMatcher(None, a, b).ratio()"
   ]
  },
  {
   "cell_type": "code",
   "execution_count": 1118,
   "metadata": {
    "tags": []
   },
   "outputs": [
    {
     "output_type": "stream",
     "name": "stdout",
     "text": [
      "Converting contact 1 out of 2108571. Runtime duration 0:00:09.946335\n",
      "Converting contact 2 out of 2108571. Runtime duration 0:00:09.952783\n",
      "Converting contact 3 out of 2108571. Runtime duration 0:00:09.961854\n",
      "Converting contact 4 out of 2108571. Runtime duration 0:00:09.963939\n",
      "Converting contact 5 out of 2108571. Runtime duration 0:00:09.966952\n",
      "Converting contact 6 out of 2108571. Runtime duration 0:00:09.969754\n",
      "Converting contact 7 out of 2108571. Runtime duration 0:00:10.035862\n",
      "Converting contact 8 out of 2108571. Runtime duration 0:00:10.043856\n",
      "Converting contact 9 out of 2108571. Runtime duration 0:00:10.049603\n",
      "Converting contact 10 out of 2108571. Runtime duration 0:00:10.054193\n",
      "Converting contact 11 out of 2108571. Runtime duration 0:00:10.058305\n",
      "Converting contact 12 out of 2108571. Runtime duration 0:00:10.061399\n",
      "Converting contact 13 out of 2108571. Runtime duration 0:00:10.062990\n",
      "Converting contact 14 out of 2108571. Runtime duration 0:00:10.167065\n",
      "Converting contact 15 out of 2108571. Runtime duration 0:00:10.172583\n",
      "Converting contact 16 out of 2108571. Runtime duration 0:00:10.211805\n",
      "Converting contact 17 out of 2108571. Runtime duration 0:00:10.245328\n",
      "Converting contact 18 out of 2108571. Runtime duration 0:00:10.250530\n",
      "Converting contact 19 out of 2108571. Runtime duration 0:00:10.251953\n",
      "Converting contact 20 out of 2108571. Runtime duration 0:00:10.258100\n",
      "Converting contact 21 out of 2108571. Runtime duration 0:00:10.261262\n",
      "Converting contact 22 out of 2108571. Runtime duration 0:00:10.264275\n",
      "Converting contact 23 out of 2108571. Runtime duration 0:00:10.266788\n",
      "Converting contact 24 out of 2108571. Runtime duration 0:00:10.338484\n",
      "Converting contact 25 out of 2108571. Runtime duration 0:00:10.340484\n",
      "Converting contact 26 out of 2108571. Runtime duration 0:00:10.342370\n",
      "Converting contact 27 out of 2108571. Runtime duration 0:00:10.343760\n",
      "Converting contact 28 out of 2108571. Runtime duration 0:00:10.344653\n",
      "Converting contact 29 out of 2108571. Runtime duration 0:00:10.346814\n",
      "Converting contact 30 out of 2108571. Runtime duration 0:00:10.348356\n",
      "Converting contact 31 out of 2108571. Runtime duration 0:00:10.349409\n",
      "Converting contact 32 out of 2108571. Runtime duration 0:00:10.354005\n",
      "Converting contact 33 out of 2108571. Runtime duration 0:00:10.357649\n",
      "Converting contact 34 out of 2108571. Runtime duration 0:00:10.497238\n",
      "Converting contact 35 out of 2108571. Runtime duration 0:00:10.504904\n",
      "Converting contact 36 out of 2108571. Runtime duration 0:00:10.509105\n",
      "Converting contact 37 out of 2108571. Runtime duration 0:00:10.522706\n",
      "Converting contact 38 out of 2108571. Runtime duration 0:00:10.536459\n",
      "Converting contact 39 out of 2108571. Runtime duration 0:00:10.538654\n",
      "Converting contact 40 out of 2108571. Runtime duration 0:00:10.541550\n",
      "Converting contact 41 out of 2108571. Runtime duration 0:00:10.545328\n",
      "Converting contact 42 out of 2108571. Runtime duration 0:00:10.595237\n",
      "Converting contact 43 out of 2108571. Runtime duration 0:00:10.599238\n",
      "Converting contact 44 out of 2108571. Runtime duration 0:00:10.605805\n",
      "Converting contact 45 out of 2108571. Runtime duration 0:00:10.607731\n",
      "Converting contact 46 out of 2108571. Runtime duration 0:00:10.611816\n",
      "Converting contact 47 out of 2108571. Runtime duration 0:00:10.612763\n",
      "Converting contact 48 out of 2108571. Runtime duration 0:00:10.613421\n",
      "Converting contact 49 out of 2108571. Runtime duration 0:00:10.614225\n",
      "Converting contact 50 out of 2108571. Runtime duration 0:00:10.620637\n",
      "Converting contact 51 out of 2108571. Runtime duration 0:00:10.704692\n",
      "Converting contact 52 out of 2108571. Runtime duration 0:00:10.710020\n",
      "Converting contact 53 out of 2108571. Runtime duration 0:00:10.712068\n",
      "Converting contact 54 out of 2108571. Runtime duration 0:00:10.725660\n",
      "Converting contact 55 out of 2108571. Runtime duration 0:00:10.727965\n",
      "Converting contact 56 out of 2108571. Runtime duration 0:00:10.730103\n",
      "Converting contact 57 out of 2108571. Runtime duration 0:00:10.740809\n",
      "Converting contact 58 out of 2108571. Runtime duration 0:00:10.743821\n",
      "Converting contact 59 out of 2108571. Runtime duration 0:00:10.840475\n",
      "Converting contact 60 out of 2108571. Runtime duration 0:00:10.845311\n",
      "Converting contact 61 out of 2108571. Runtime duration 0:00:10.848038\n",
      "Converting contact 62 out of 2108571. Runtime duration 0:00:10.852653\n",
      "Converting contact 63 out of 2108571. Runtime duration 0:00:10.854776\n",
      "Converting contact 64 out of 2108571. Runtime duration 0:00:10.856174\n",
      "Converting contact 65 out of 2108571. Runtime duration 0:00:10.858324\n",
      "Converting contact 66 out of 2108571. Runtime duration 0:00:10.860836\n",
      "Converting contact 67 out of 2108571. Runtime duration 0:00:10.873282\n",
      "Converting contact 68 out of 2108571. Runtime duration 0:00:10.895757\n",
      "Converting contact 69 out of 2108571. Runtime duration 0:00:10.994095\n",
      "Converting contact 70 out of 2108571. Runtime duration 0:00:10.997067\n",
      "Converting contact 71 out of 2108571. Runtime duration 0:00:11.005549\n",
      "Converting contact 72 out of 2108571. Runtime duration 0:00:11.009986\n",
      "Converting contact 73 out of 2108571. Runtime duration 0:00:11.011206\n",
      "Converting contact 74 out of 2108571. Runtime duration 0:00:11.012115\n",
      "Converting contact 75 out of 2108571. Runtime duration 0:00:11.025366\n",
      "Converting contact 76 out of 2108571. Runtime duration 0:00:11.027619\n",
      "Converting contact 77 out of 2108571. Runtime duration 0:00:11.029279\n",
      "Converting contact 78 out of 2108571. Runtime duration 0:00:11.039689\n",
      "Converting contact 79 out of 2108571. Runtime duration 0:00:11.299040\n",
      "Converting contact 80 out of 2108571. Runtime duration 0:00:11.378085\n",
      "Converting contact 81 out of 2108571. Runtime duration 0:00:11.392289\n",
      "Converting contact 82 out of 2108571. Runtime duration 0:00:11.394357\n",
      "Converting contact 83 out of 2108571. Runtime duration 0:00:11.397287\n",
      "Converting contact 84 out of 2108571. Runtime duration 0:00:11.403435\n",
      "Converting contact 85 out of 2108571. Runtime duration 0:00:11.405695\n",
      "Dataframe dimensions (85, 26)\n"
     ]
    }
   ],
   "source": [
    "#import the hubspot csv export into a dataframe\n",
    "#import the countries functions data into a dataframe for mathcing purposes\n",
    "#for iso_data in countries:\n",
    "#        iso_countries_df = iso_countries_df.append({'name':iso_data[0],\n",
    "#                                            'alpha2_ccode':iso_data[1],\n",
    "#                                            'alpha3_code':iso_data[2],\n",
    "#                                            'numeric':iso_data[3]},\n",
    "#                                            ignore_index=True)\n",
    "\n",
    "for chunk in pd.read_csv('contact-country-region-values.csv', chunksize=batch_size, nrows=row_count):\n",
    "    match_maker(chunk)\n",
    "\n",
    "print('Dataframe dimensions {}'.format(hs_countries_df.shape))"
   ]
  },
  {
   "cell_type": "code",
   "execution_count": 1119,
   "metadata": {
    "tags": []
   },
   "outputs": [
    {
     "output_type": "stream",
     "name": "stdout",
     "text": [
      "False    53\nTrue     32\nName: Matched, dtype: int64\nIndex(['Associated Company', 'Associated Company ID',\n       'Became a Marketing Qualified Lead Date', 'Contact ID',\n       'Contact country', 'Country Code', 'Country of Respondents',\n       'Country/Region', 'Create Date', 'Email', 'First Name', 'HQ Country',\n       'IP Country', 'IP Country Code', 'Inferred Country', 'Last Name',\n       'Lead Source', 'Matched', 'Most Recent Lead Source', 'Original Source',\n       'Original Source Drill-Down 1', 'Original Source Drill-Down 2',\n       'Product Code', 'Salesforce Contact ID', 'Salesforce Lead ID',\n       'new_country_name'],\n      dtype='object')\n"
     ]
    }
   ],
   "source": [
    "print(hs_countries_df['Matched'].value_counts())\n",
    "print(hs_countries_df.columns)"
   ]
  },
  {
   "cell_type": "code",
   "execution_count": 1120,
   "metadata": {},
   "outputs": [
    {
     "output_type": "stream",
     "name": "stdout",
     "text": [
      "Sales Created     51\nContact Sales      1\nAccount Signup     1\nName: Lead Source, dtype: int64\n"
     ]
    }
   ],
   "source": [
    "no_match_ls = hs_countries_df.loc[hs_countries_df['Matched'] == False, 'Lead Source']\n",
    "print(no_match_ls.value_counts())"
   ]
  },
  {
   "cell_type": "code",
   "execution_count": 1121,
   "metadata": {},
   "outputs": [
    {
     "output_type": "stream",
     "name": "stdout",
     "text": [
      "United States     39\nUnited Kingdom    13\nunited states      1\nName: Country/Region, dtype: int64\n"
     ]
    }
   ],
   "source": [
    "no_match_countries = hs_countries_df.loc[hs_countries_df['Matched'] == False, 'Country/Region']\n",
    "print(no_match_countries.value_counts())"
   ]
  },
  {
   "cell_type": "code",
   "execution_count": 1122,
   "metadata": {},
   "outputs": [
    {
     "output_type": "stream",
     "name": "stdout",
     "text": [
      "   Matched Country/Region new_country_name\n0    False  united states              NaN\n1     True        myanmar          Myanmar\n2     True       thailand         Thailand\n6     True          india            India\n7     True          india            India\n"
     ]
    }
   ],
   "source": [
    "print(hs_countries_df[['Matched','Country/Region','new_country_name']].head())"
   ]
  },
  {
   "cell_type": "code",
   "execution_count": 1123,
   "metadata": {},
   "outputs": [
    {
     "output_type": "stream",
     "name": "stdout",
     "text": [
      "  Associated Company  Associated Company ID  \\\n0                NaN                    NaN   \n1                NaN                    NaN   \n2                NaN                    NaN   \n6                NaN                    NaN   \n7                NaN                    NaN   \n\n  Became a Marketing Qualified Lead Date  Contact ID Contact country  \\\n0                                    NaN   311098494   United States   \n1                                    NaN   311097942         Myanmar   \n2                                    NaN   311088532        Thailand   \n6                                    NaN   311094170           India   \n7                                    NaN   310420803           India   \n\n   Country Code  Country of Respondents Country/Region       Create Date  \\\n0           NaN                     NaN  united states  2021-01-12 22:35   \n1           NaN                     NaN        myanmar  2021-01-12 22:35   \n2           NaN                     NaN       thailand  2021-01-12 22:34   \n6           NaN                     NaN          india  2021-01-12 22:31   \n7           NaN                     NaN          india  2021-01-12 22:31   \n\n                       Email  ...     Lead Source  Matched  \\\n0     rsoudah@salesforce.com  ...  Account Signup    False   \n1     hayman266466@gmail.com  ...         Content     True   \n2  ketmanee.150645@fwd.in.th  ...         Content     True   \n6  naresh.verma016@gmail.com  ...         Content     True   \n7         bs840409@gmail.com  ...         Content     True   \n\n  Most Recent Lead Source Original Source  \\\n0          Account Signup  Direct Traffic   \n1                 Content  Direct Traffic   \n2                 Content  Direct Traffic   \n6                 Content  Direct Traffic   \n7                 Content  Direct Traffic   \n\n                        Original Source Drill-Down 1  \\\n0               e3875d32-ab81-48f1-9e78-493eae864f12   \n1  www.surveymonkey.com/resources/premium/2020-re...   \n2                 www.surveymonkey.com/survey-thanks   \n6                 www.surveymonkey.com/survey-closed   \n7                 www.surveymonkey.com/survey-thanks   \n\n  Original Source Drill-Down 2 Product Code  Salesforce Contact ID  \\\n0                          NaN  GetFeedback                    NaN   \n1                          NaN          SME                    NaN   \n2                          NaN          SME                    NaN   \n6                          NaN          SME                    NaN   \n7                          NaN          SME                    NaN   \n\n   Salesforce Lead ID new_country_name  \n0  00Q4V00001UtwHeUAJ              NaN  \n1  00Q4V00001UtwHZUAZ          Myanmar  \n2  00Q4V00001UtwHUUAZ         Thailand  \n6  00Q4V00001UtwHFUAZ            India  \n7  00Q4V00001UtwHAUAZ            India  \n\n[5 rows x 26 columns]\n      Associated Company  Associated Company ID  \\\n94  Carnival Corporation           3.289257e+09   \n95  Carnival Corporation           3.289257e+09   \n97                Adidas           3.288462e+09   \n98     Dieboldconsulting           3.289629e+09   \n99       Cox Media Group           3.289685e+09   \n\n   Became a Marketing Qualified Lead Date  Contact ID Contact country  \\\n94                                    NaN   311071411             NaN   \n95                                    NaN   311071365             NaN   \n97                                    NaN   311070792         Germany   \n98                                    NaN   311070791             NaN   \n99                                    NaN   311070838             NaN   \n\n    Country Code  Country of Respondents Country/Region       Create Date  \\\n94           NaN                     NaN  United States  2021-01-12 21:32   \n95           NaN                     NaN  United States  2021-01-12 21:32   \n97           NaN                     NaN        Germany  2021-01-12 21:32   \n98           NaN                     NaN  United States  2021-01-12 21:32   \n99           NaN                     NaN  United States  2021-01-12 21:32   \n\n                                  Email  ...    Lead Source  Matched  \\\n94             woodsstacie@carnival.com  ...  Sales Created    False   \n95               rdillehay@carnival.com  ...  Sales Created    False   \n97           tinh.tran@adidas-group.com  ...  Sales Created     True   \n98  michelle.larocca@dieboldnixdorf.com  ...  Sales Created    False   \n99             donal.cahillx@coxinc.com  ...  Sales Created    False   \n\n   Most Recent Lead Source  Original Source  Original Source Drill-Down 1  \\\n94           Sales Created  Offline Sources                    SALESFORCE   \n95           Sales Created  Offline Sources                    SALESFORCE   \n97           Sales Created  Offline Sources                    SALESFORCE   \n98           Sales Created  Offline Sources                    SALESFORCE   \n99           Sales Created  Offline Sources                    SALESFORCE   \n\n               Original Source Drill-Down 2 Product Code  \\\n94  salesforce-createdby-0034V00002dnpB4QAI          NaN   \n95  salesforce-createdby-0034V00002dnpB1QAI          NaN   \n97  salesforce-createdby-0034V00002dnpBTQAY          NaN   \n98  salesforce-createdby-0034V00002dnpBbQAI          NaN   \n99  salesforce-createdby-0034V00002dnpBZQAY          NaN   \n\n    Salesforce Contact ID Salesforce Lead ID new_country_name  \n94     0034V00002dnpB4QAI                NaN              NaN  \n95     0034V00002dnpB1QAI                NaN              NaN  \n97     0034V00002dnpBTQAY                NaN          Germany  \n98     0034V00002dnpBbQAI                NaN              NaN  \n99     0034V00002dnpBZQAY                NaN              NaN  \n\n[5 rows x 26 columns]\n"
     ]
    }
   ],
   "source": [
    "print(hs_countries_df.head())\n",
    "print(hs_countries_df.tail())"
   ]
  },
  {
   "cell_type": "code",
   "execution_count": 1124,
   "metadata": {},
   "outputs": [
    {
     "output_type": "stream",
     "name": "stdout",
     "text": [
      "(85, 26)\n"
     ]
    }
   ],
   "source": [
    "\n",
    "print(hs_countries_df.shape)"
   ]
  },
  {
   "cell_type": "code",
   "execution_count": null,
   "metadata": {},
   "outputs": [],
   "source": []
  }
 ]
}
